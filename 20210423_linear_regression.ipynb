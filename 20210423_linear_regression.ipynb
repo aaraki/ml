{
 "cells": [
  {
   "cell_type": "code",
   "execution_count": 1,
   "metadata": {},
   "outputs": [],
   "source": [
    "import numpy as np\n",
    "import matplotlib.pyplot as plt"
   ]
  },
  {
   "cell_type": "code",
   "execution_count": 2,
   "metadata": {},
   "outputs": [],
   "source": [
    "import mlflow"
   ]
  },
  {
   "cell_type": "code",
   "execution_count": 2,
   "metadata": {},
   "outputs": [],
   "source": [
    "x=np.random.rand(100,1)"
   ]
  },
  {
   "cell_type": "code",
   "execution_count": 3,
   "metadata": {},
   "outputs": [
    {
     "data": {
      "text/plain": [
       "array([[0.19184626],\n",
       "       [0.11275388],\n",
       "       [0.43139021],\n",
       "       [0.87291212],\n",
       "       [0.5896925 ],\n",
       "       [0.30187886],\n",
       "       [0.10568876],\n",
       "       [0.30472452],\n",
       "       [0.52891853],\n",
       "       [0.58409313],\n",
       "       [0.52937351],\n",
       "       [0.65651813],\n",
       "       [0.70415152],\n",
       "       [0.1262887 ],\n",
       "       [0.46225572],\n",
       "       [0.76314732],\n",
       "       [0.29422181],\n",
       "       [0.93959966],\n",
       "       [0.44440283],\n",
       "       [0.31094996],\n",
       "       [0.24860824],\n",
       "       [0.12610829],\n",
       "       [0.92463567],\n",
       "       [0.44476912],\n",
       "       [0.2671095 ],\n",
       "       [0.36169652],\n",
       "       [0.97580966],\n",
       "       [0.91012245],\n",
       "       [0.0774857 ],\n",
       "       [0.22146248],\n",
       "       [0.98462489],\n",
       "       [0.34605388],\n",
       "       [0.40995713],\n",
       "       [0.14796728],\n",
       "       [0.00294236],\n",
       "       [0.75966451],\n",
       "       [0.80235196],\n",
       "       [0.31293428],\n",
       "       [0.97809434],\n",
       "       [0.46167003],\n",
       "       [0.3860048 ],\n",
       "       [0.34141347],\n",
       "       [0.87294793],\n",
       "       [0.59405889],\n",
       "       [0.89455682],\n",
       "       [0.18376335],\n",
       "       [0.12488409],\n",
       "       [0.77311757],\n",
       "       [0.57135365],\n",
       "       [0.33459506],\n",
       "       [0.65806581],\n",
       "       [0.28387346],\n",
       "       [0.85157985],\n",
       "       [0.65452963],\n",
       "       [0.44173045],\n",
       "       [0.77158974],\n",
       "       [0.13571264],\n",
       "       [0.82818056],\n",
       "       [0.28890532],\n",
       "       [0.53188437],\n",
       "       [0.65915974],\n",
       "       [0.67911714],\n",
       "       [0.04855664],\n",
       "       [0.86474658],\n",
       "       [0.91202021],\n",
       "       [0.69256584],\n",
       "       [0.74523847],\n",
       "       [0.07917914],\n",
       "       [0.60864156],\n",
       "       [0.6705783 ],\n",
       "       [0.13860948],\n",
       "       [0.59252378],\n",
       "       [0.35069878],\n",
       "       [0.96462433],\n",
       "       [0.04983751],\n",
       "       [0.83857103],\n",
       "       [0.86256262],\n",
       "       [0.80692372],\n",
       "       [0.30716521],\n",
       "       [0.14088846],\n",
       "       [0.43613461],\n",
       "       [0.99776856],\n",
       "       [0.47985753],\n",
       "       [0.86962209],\n",
       "       [0.24568396],\n",
       "       [0.32143118],\n",
       "       [0.1912512 ],\n",
       "       [0.705442  ],\n",
       "       [0.92643058],\n",
       "       [0.00684406],\n",
       "       [0.29899085],\n",
       "       [0.5705324 ],\n",
       "       [0.26922098],\n",
       "       [0.81196617],\n",
       "       [0.7724914 ],\n",
       "       [0.38978759],\n",
       "       [0.87497519],\n",
       "       [0.11180207],\n",
       "       [0.90243162],\n",
       "       [0.10941813]])"
      ]
     },
     "execution_count": 3,
     "metadata": {},
     "output_type": "execute_result"
    }
   ],
   "source": [
    "x"
   ]
  },
  {
   "cell_type": "code",
   "execution_count": 4,
   "metadata": {},
   "outputs": [],
   "source": [
    "y=5+3*x+np.random.rand(100,1)"
   ]
  },
  {
   "cell_type": "code",
   "execution_count": 5,
   "metadata": {},
   "outputs": [
    {
     "data": {
      "text/plain": [
       "<matplotlib.collections.PathCollection at 0x22068738308>"
      ]
     },
     "execution_count": 5,
     "metadata": {},
     "output_type": "execute_result"
    },
    {
     "data": {
      "image/png": "[encoded data removed]",
      "text/plain": [
       "<Figure size 432x288 with 1 Axes>"
      ]
     },
     "metadata": {
      "needs_background": "light"
     },
     "output_type": "display_data"
    }
   ],
   "source": [
    "plt.scatter(x,y)"
   ]
  },
  {
   "cell_type": "code",
   "execution_count": 6,
   "metadata": {},
   "outputs": [],
   "source": [
    "from sklearn.linear_model import LinearRegression"
   ]
  },
  {
   "cell_type": "code",
   "execution_count": 7,
   "metadata": {},
   "outputs": [
    {
     "data": {
      "text/plain": [
       "(100, 1)"
      ]
     },
     "execution_count": 7,
     "metadata": {},
     "output_type": "execute_result"
    }
   ],
   "source": [
    "y.shape"
   ]
  },
  {
   "cell_type": "code",
   "execution_count": 8,
   "metadata": {},
   "outputs": [
    {
     "data": {
      "text/plain": [
       "(100,)"
      ]
     },
     "execution_count": 8,
     "metadata": {},
     "output_type": "execute_result"
    }
   ],
   "source": [
    "y.ravel().shape"
   ]
  },
  {
   "cell_type": "code",
   "execution_count": 9,
   "metadata": {},
   "outputs": [],
   "source": [
    "lin_reg=LinearRegression().fit(x,y.ravel())"
   ]
  },
  {
   "cell_type": "code",
   "execution_count": 10,
   "metadata": {},
   "outputs": [
    {
     "data": {
      "text/plain": [
       "(5.523050084496488, array([2.97932807]))"
      ]
     },
     "execution_count": 10,
     "metadata": {},
     "output_type": "execute_result"
    }
   ],
   "source": [
    "lin_reg.intercept_,lin_reg.coef_"
   ]
  },
  {
   "cell_type": "code",
   "execution_count": 14,
   "metadata": {},
   "outputs": [
    {
     "data": {
      "text/plain": [
       "<matplotlib.collections.PathCollection at 0x2206c262288>"
      ]
     },
     "execution_count": 14,
     "metadata": {},
     "output_type": "execute_result"
    },
    {
     "data": {
      "image/png": "[encoded data removed]",
      "text/plain": [
       "<Figure size 432x288 with 1 Axes>"
      ]
     },
     "metadata": {
      "needs_background": "light"
     },
     "output_type": "display_data"
    }
   ],
   "source": [
    "x_new=np.array([[0],[1]])\n",
    "plt.plot(x_new,lin_reg.intercept_+lin_reg.coef_*x_new,'red')\n",
    "plt.scatter(x,y)"
   ]
  },
  {
   "cell_type": "code",
   "execution_count": 17,
   "metadata": {},
   "outputs": [],
   "source": [
    "from sklearn.linear_model import SGDRegressor"
   ]
  },
  {
   "cell_type": "code",
   "execution_count": 18,
   "metadata": {},
   "outputs": [],
   "source": [
    "sgd_reg=SGDRegressor(max_iter=100).fit(x,y.ravel())"
   ]
  },
  {
   "cell_type": "code",
   "execution_count": 20,
   "metadata": {},
   "outputs": [
    {
     "data": {
      "text/plain": [
       "(array([5.50651608]), array([2.96449889]))"
      ]
     },
     "execution_count": 20,
     "metadata": {},
     "output_type": "execute_result"
    }
   ],
   "source": [
    "sgd_reg.intercept_,sgd_reg.coef_"
   ]
  },
  {
   "cell_type": "code",
   "execution_count": 21,
   "metadata": {},
   "outputs": [
    {
     "name": "stderr",
     "output_type": "stream",
     "text": [
      "C:\\Users\\z00319tl\\Anaconda3\\lib\\site-packages\\sklearn\\linear_model\\_stochastic_gradient.py:1187: ConvergenceWarning: Maximum number of iteration reached before convergence. Consider increasing max_iter to improve the fit.\n",
      "  ConvergenceWarning)\n"
     ]
    }
   ],
   "source": [
    "sgd_reg_00001=SGDRegressor(eta0=0.0001,max_iter=100).fit(x,y.ravel())"
   ]
  },
  {
   "cell_type": "code",
   "execution_count": 22,
   "metadata": {},
   "outputs": [
    {
     "data": {
      "text/plain": [
       "(array([0.86248969]), array([0.46989377]))"
      ]
     },
     "execution_count": 22,
     "metadata": {},
     "output_type": "execute_result"
    }
   ],
   "source": [
    "sgd_reg_00001.intercept_,sgd_reg_00001.coef_"
   ]
  },
  {
   "cell_type": "code",
   "execution_count": 25,
   "metadata": {},
   "outputs": [
    {
     "data": {
      "text/plain": [
       "<matplotlib.collections.PathCollection at 0x2206c336a88>"
      ]
     },
     "execution_count": 25,
     "metadata": {},
     "output_type": "execute_result"
    },
    {
     "data": {
      "image/png": "[encoded data removed]",
      "text/plain": [
       "<Figure size 432x288 with 1 Axes>"
      ]
     },
     "metadata": {
      "needs_background": "light"
     },
     "output_type": "display_data"
    }
   ],
   "source": [
    "x_new=np.array([[0],[1]])\n",
    "plt.plot(x_new,sgd_reg_00001.intercept_+sgd_reg_00001.coef_*x_new,'red')\n",
    "plt.scatter(x,y)"
   ]
  },
  {
   "cell_type": "code",
   "execution_count": 26,
   "metadata": {},
   "outputs": [],
   "source": [
    "sgd_reg_100=SGDRegressor(eta0=100,max_iter=100).fit(x,y.ravel())"
   ]
  },
  {
   "cell_type": "code",
   "execution_count": 27,
   "metadata": {},
   "outputs": [
    {
     "data": {
      "text/plain": [
       "(array([4.95483566e+12]), array([1.67984804e+13]))"
      ]
     },
     "execution_count": 27,
     "metadata": {},
     "output_type": "execute_result"
    }
   ],
   "source": [
    "sgd_reg_100.intercept_,sgd_reg_100.coef_"
   ]
  },
  {
   "cell_type": "code",
   "execution_count": 28,
   "metadata": {},
   "outputs": [
    {
     "data": {
      "text/plain": [
       "<matplotlib.collections.PathCollection at 0x2206c362e88>"
      ]
     },
     "execution_count": 28,
     "metadata": {},
     "output_type": "execute_result"
    },
    {
     "data": {
      "image/png": "[encoded data removed]",
      "text/plain": [
       "<Figure size 432x288 with 1 Axes>"
      ]
     },
     "metadata": {
      "needs_background": "light"
     },
     "output_type": "display_data"
    }
   ],
   "source": [
    "plt.plot(x_new,sgd_reg_100.intercept_+sgd_reg_100.coef_*x_new,'red')\n",
    "plt.scatter(x,y)"
   ]
  }
 ],
 "metadata": {
  "kernelspec": {
   "display_name": "Python 3",
   "language": "python",
   "name": "python3"
  },
  "language_info": {
   "codemirror_mode": {
    "name": "ipython",
    "version": 3
   },
   "file_extension": ".py",
   "mimetype": "text/x-python",
   "name": "python",
   "nbconvert_exporter": "python",
   "pygments_lexer": "ipython3",
   "version": "3.8.10"
  }
 },
 "nbformat": 4,
 "nbformat_minor": 4
}
